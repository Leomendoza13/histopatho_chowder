{
 "cells": [
  {
   "cell_type": "code",
   "execution_count": 57,
   "metadata": {},
   "outputs": [],
   "source": [
    "import argparse\n",
    "import torch\n",
    "\n",
    "from histopatho.metric import auc\n",
    "from histopatho.trainer import (\n",
    "    slide_level_train_step,\n",
    "    slide_level_val_step,\n",
    ")\n",
    "\n",
    "from histopatho.prediction import predict\n",
    "from histopatho.utils import generate_output_csv\n",
    "from histopatho.utils import (\n",
    "    load_npy_from_dir,\n",
    "    load_data_from_csv,\n",
    "    shuffle_data,\n",
    "    split_dataset_in_subset,\n",
    ")\n",
    "\n",
    "from HistoSSLscaling.rl_benchmarks.trainers import TorchTrainer\n",
    "from HistoSSLscaling.rl_benchmarks.datasets import SlideFeaturesDataset\n",
    "from HistoSSLscaling.rl_benchmarks.models import Chowder"
   ]
  },
  {
   "cell_type": "code",
   "execution_count": 58,
   "metadata": {},
   "outputs": [],
   "source": [
    "import os\n",
    "\n",
    "list_path = []\n",
    "count = 0\n",
    "\n",
    "for file in os.listdir('weights/'):\n",
    "    if file.endswith('pth'):\n",
    "        list_path.append(file)\n",
    "        count += 1"
   ]
  },
  {
   "cell_type": "code",
   "execution_count": 59,
   "metadata": {},
   "outputs": [],
   "source": [
    "device = \"cuda\" if torch.cuda.is_available() else \"cpu\"\n",
    "\n",
    "models = [Chowder(    \n",
    "    in_features=2048,\n",
    "    out_features=1,\n",
    "    n_top=5,\n",
    "    n_bottom=5,\n",
    "    mlp_hidden=[200, 100],\n",
    "    mlp_activation=torch.nn.Sigmoid(),\n",
    "    bias=True\n",
    "    ).to(device) for _ in range(count)]\n",
    "    "
   ]
  },
  {
   "cell_type": "code",
   "execution_count": 63,
   "metadata": {},
   "outputs": [
    {
     "data": {
      "text/plain": [
       "3"
      ]
     },
     "execution_count": 63,
     "metadata": {},
     "output_type": "execute_result"
    }
   ],
   "source": [
    "len(models)"
   ]
  },
  {
   "cell_type": "code",
   "execution_count": 60,
   "metadata": {},
   "outputs": [],
   "source": [
    "for i in range(len(list_path)):\n",
    "    models[i].load_state_dict(torch.load(os.path.join('weights', list_path[i])))\n"
   ]
  },
  {
   "cell_type": "code",
   "execution_count": 64,
   "metadata": {},
   "outputs": [],
   "source": [
    "test_path = 'data/test_input/moco_features'\n",
    "test_values = load_npy_from_dir(test_path)"
   ]
  },
  {
   "cell_type": "code",
   "execution_count": 65,
   "metadata": {},
   "outputs": [],
   "source": [
    "test_values_tensor = torch.tensor(test_values)\n",
    "test_values_tensor = test_values_tensor.to(device)"
   ]
  },
  {
   "cell_type": "code",
   "execution_count": 66,
   "metadata": {},
   "outputs": [],
   "source": [
    "predictions = []\n",
    "for model in models:\n",
    "    prediction = predict(model, test_values_tensor)\n",
    "    predictions.append(prediction)"
   ]
  },
  {
   "cell_type": "code",
   "execution_count": null,
   "metadata": {},
   "outputs": [],
   "source": [
    "predictions"
   ]
  },
  {
   "cell_type": "code",
   "execution_count": 68,
   "metadata": {},
   "outputs": [],
   "source": [
    "ensemble_predictions = torch.stack(predictions).mean(dim=0)"
   ]
  },
  {
   "cell_type": "code",
   "execution_count": 69,
   "metadata": {},
   "outputs": [
    {
     "data": {
      "text/plain": [
       "tensor([[0.3282],\n",
       "        [0.4197],\n",
       "        [0.1639],\n",
       "        [0.1781],\n",
       "        [0.2260],\n",
       "        [0.5941],\n",
       "        [0.1563],\n",
       "        [0.3996],\n",
       "        [0.1608],\n",
       "        [0.4339],\n",
       "        [0.2127],\n",
       "        [0.4533],\n",
       "        [0.1540],\n",
       "        [0.2278],\n",
       "        [0.2969],\n",
       "        [0.2132],\n",
       "        [0.4732],\n",
       "        [0.6561],\n",
       "        [0.1897],\n",
       "        [0.3552],\n",
       "        [0.3142],\n",
       "        [0.1092],\n",
       "        [0.2848],\n",
       "        [0.7089],\n",
       "        [0.4402],\n",
       "        [0.2426],\n",
       "        [0.6935],\n",
       "        [0.5248],\n",
       "        [0.2501],\n",
       "        [0.1814],\n",
       "        [0.1832],\n",
       "        [0.3965],\n",
       "        [0.1401],\n",
       "        [0.5884],\n",
       "        [0.5670],\n",
       "        [0.3459],\n",
       "        [0.1255],\n",
       "        [0.2548],\n",
       "        [0.2300],\n",
       "        [0.5567],\n",
       "        [0.1250],\n",
       "        [0.2786],\n",
       "        [0.3809],\n",
       "        [0.1472],\n",
       "        [0.0548],\n",
       "        [0.1832],\n",
       "        [0.1260],\n",
       "        [0.3098],\n",
       "        [0.5598],\n",
       "        [0.2536],\n",
       "        [0.5031],\n",
       "        [0.3440],\n",
       "        [0.2042],\n",
       "        [0.2832],\n",
       "        [0.4239],\n",
       "        [0.6145],\n",
       "        [0.2541],\n",
       "        [0.2188],\n",
       "        [0.2327],\n",
       "        [0.3214],\n",
       "        [0.4078],\n",
       "        [0.1565],\n",
       "        [0.4974],\n",
       "        [0.5109],\n",
       "        [0.2007],\n",
       "        [0.2189],\n",
       "        [0.1729],\n",
       "        [0.5826],\n",
       "        [0.0952],\n",
       "        [0.7128],\n",
       "        [0.3876],\n",
       "        [0.4990],\n",
       "        [0.3233],\n",
       "        [0.3517],\n",
       "        [0.2467],\n",
       "        [0.1216],\n",
       "        [0.3098],\n",
       "        [0.3009],\n",
       "        [0.4264],\n",
       "        [0.1163],\n",
       "        [0.7102],\n",
       "        [0.3768],\n",
       "        [0.2072],\n",
       "        [0.4867],\n",
       "        [0.1679],\n",
       "        [0.0894],\n",
       "        [0.1492],\n",
       "        [0.5294],\n",
       "        [0.6263],\n",
       "        [0.4248],\n",
       "        [0.1054],\n",
       "        [0.4503],\n",
       "        [0.2769],\n",
       "        [0.2563],\n",
       "        [0.2584],\n",
       "        [0.3294],\n",
       "        [0.4652],\n",
       "        [0.2727],\n",
       "        [0.1732],\n",
       "        [0.3773],\n",
       "        [0.0543],\n",
       "        [0.3190],\n",
       "        [0.3079],\n",
       "        [0.5379],\n",
       "        [0.1125],\n",
       "        [0.1109],\n",
       "        [0.3331],\n",
       "        [0.6371],\n",
       "        [0.2109],\n",
       "        [0.2568],\n",
       "        [0.1919],\n",
       "        [0.6465],\n",
       "        [0.6170],\n",
       "        [0.3482],\n",
       "        [0.1963],\n",
       "        [0.0887],\n",
       "        [0.1492],\n",
       "        [0.3520],\n",
       "        [0.1338],\n",
       "        [0.2322],\n",
       "        [0.3649],\n",
       "        [0.1436],\n",
       "        [0.1033],\n",
       "        [0.2987],\n",
       "        [0.2524],\n",
       "        [0.4021],\n",
       "        [0.1536],\n",
       "        [0.2467],\n",
       "        [0.1237],\n",
       "        [0.3960],\n",
       "        [0.2328],\n",
       "        [0.2735],\n",
       "        [0.5878],\n",
       "        [0.5274],\n",
       "        [0.5121],\n",
       "        [0.5108],\n",
       "        [0.3534],\n",
       "        [0.1241],\n",
       "        [0.5442],\n",
       "        [0.1017],\n",
       "        [0.4192],\n",
       "        [0.2028],\n",
       "        [0.3653],\n",
       "        [0.2157],\n",
       "        [0.3560],\n",
       "        [0.2202],\n",
       "        [0.1910],\n",
       "        [0.1833],\n",
       "        [0.3420]], device='cuda:0', grad_fn=<MeanBackward1>)"
      ]
     },
     "execution_count": 69,
     "metadata": {},
     "output_type": "execute_result"
    }
   ],
   "source": [
    "ensemble_predictions"
   ]
  },
  {
   "cell_type": "code",
   "execution_count": 70,
   "metadata": {},
   "outputs": [
    {
     "data": {
      "text/plain": [
       "149"
      ]
     },
     "execution_count": 70,
     "metadata": {},
     "output_type": "execute_result"
    }
   ],
   "source": [
    "len(ensemble_predictions)"
   ]
  }
 ],
 "metadata": {
  "kernelspec": {
   "display_name": "histopatho-env",
   "language": "python",
   "name": "python3"
  },
  "language_info": {
   "codemirror_mode": {
    "name": "ipython",
    "version": 3
   },
   "file_extension": ".py",
   "mimetype": "text/x-python",
   "name": "python",
   "nbconvert_exporter": "python",
   "pygments_lexer": "ipython3",
   "version": "3.8.18"
  }
 },
 "nbformat": 4,
 "nbformat_minor": 2
}
